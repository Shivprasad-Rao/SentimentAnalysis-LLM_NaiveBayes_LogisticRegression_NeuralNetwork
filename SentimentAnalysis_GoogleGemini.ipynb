{
  "nbformat": 4,
  "nbformat_minor": 0,
  "metadata": {
    "colab": {
      "provenance": [],
      "include_colab_link": true
    },
    "kernelspec": {
      "name": "python3",
      "display_name": "Python 3"
    },
    "language_info": {
      "name": "python"
    }
  },
  "cells": [
    {
      "cell_type": "markdown",
      "metadata": {
        "id": "view-in-github",
        "colab_type": "text"
      },
      "source": [
        "<a href=\"https://colab.research.google.com/github/Shivprasad-Rao/SentimentAnalysis-LLM_NaiveBayes_LogisticRegression_NeuralNetwork/blob/main/SentimentAnalysis_GoogleGemini.ipynb\" target=\"_parent\"><img src=\"https://colab.research.google.com/assets/colab-badge.svg\" alt=\"Open In Colab\"/></a>"
      ]
    },
    {
      "cell_type": "code",
      "source": [
        "from google.colab import drive\n",
        "drive.mount('/content/drive')\n",
        "\n",
        "import os"
      ],
      "metadata": {
        "id": "zYvbvQKW6XSS",
        "colab": {
          "base_uri": "https://localhost:8080/"
        },
        "outputId": "f8054e60-c2cd-457a-a1ea-bb8241de4825"
      },
      "execution_count": null,
      "outputs": [
        {
          "output_type": "stream",
          "name": "stdout",
          "text": [
            "Mounted at /content/drive\n"
          ]
        }
      ]
    },
    {
      "cell_type": "code",
      "execution_count": null,
      "metadata": {
        "id": "8D1SlTYJl73k"
      },
      "outputs": [],
      "source": [
        "import pandas as pd\n",
        "import numpy as np\n",
        "import matplotlib.pyplot as plt\n",
        "import seaborn as sns\n",
        "\n",
        "data=pd.read_csv(\"/content/drive/MyDrive/CSCI264-ProjectFiles/IMDB Dataset.csv\")"
      ]
    },
    {
      "cell_type": "code",
      "source": [
        "import pathlib\n",
        "import textwrap\n",
        "\n",
        "from IPython.display import display\n",
        "from IPython.display import Markdown\n",
        "\n",
        "import google.generativeai as genai\n",
        "from google.colab import userdata\n",
        "\n",
        "safety_settings=[\n",
        "  {\n",
        "    \"category\": \"HARM_CATEGORY_DANGEROUS\",\n",
        "    \"threshold\": \"BLOCK_NONE\",\n",
        "  },\n",
        "  {\n",
        "    \"category\": \"HARM_CATEGORY_HARASSMENT\",\n",
        "    \"threshold\": \"BLOCK_NONE\",\n",
        "  },\n",
        "  {\n",
        "    \"category\": \"HARM_CATEGORY_HATE_SPEECH\",\n",
        "    \"threshold\": \"BLOCK_NONE\",\n",
        "  },\n",
        "  {\n",
        "    \"category\": \"HARM_CATEGORY_SEXUALLY_EXPLICIT\",\n",
        "    \"threshold\": \"BLOCK_NONE\",\n",
        "  },\n",
        "  {\n",
        "    \"category\": \"HARM_CATEGORY_DANGEROUS_CONTENT\",\n",
        "    \"threshold\": \"BLOCK_NONE\",\n",
        "  }\n",
        "]\n",
        "\n",
        "genai.configure(api_key=userdata.get('GEMINI_API'))\n",
        "\n",
        "model = genai.GenerativeModel(model_name = 'gemini-pro', safety_settings = safety_settings)"
      ],
      "metadata": {
        "id": "bAz1LsFuRim_"
      },
      "execution_count": null,
      "outputs": []
    },
    {
      "cell_type": "code",
      "source": [
        "data_set = 10\n",
        "data = data.loc[:(data_set-1)]\n",
        "print(len(data))"
      ],
      "metadata": {
        "id": "bhd6bP9C6sQh",
        "colab": {
          "base_uri": "https://localhost:8080/"
        },
        "outputId": "85872650-9028-46a9-e7d3-e5713cb2761e"
      },
      "execution_count": null,
      "outputs": [
        {
          "output_type": "stream",
          "name": "stdout",
          "text": [
            "10\n"
          ]
        }
      ]
    },
    {
      "cell_type": "code",
      "source": [
        "import re\n",
        "from nltk.stem.porter import PorterStemmer\n",
        "porter=PorterStemmer()\n",
        "\n",
        "def preprocessor(text):\n",
        "             text=re.sub('<[^>]*>','',text)\n",
        "             emojis=re.findall('(?::|;|=)(?:-)?(?:\\)|\\(|D|P)',text)\n",
        "             text=re.sub('[\\W]+',' ',text.lower()) + ' '.join(emojis).replace('-','')\n",
        "             return text\n",
        "\n",
        "data['review']=data['review'].apply(preprocessor)"
      ],
      "metadata": {
        "id": "8eoU63Yp6IQp"
      },
      "execution_count": null,
      "outputs": []
    },
    {
      "cell_type": "code",
      "source": [
        "y_test = data.sentiment.values\n",
        "y_pred = []\n",
        "samples = 0"
      ],
      "metadata": {
        "id": "BWwsEetEiSl1"
      },
      "execution_count": null,
      "outputs": []
    },
    {
      "cell_type": "code",
      "source": [
        "for text in data['review']:\n",
        "  samples = samples + 1\n",
        "  if(samples%1==0):\n",
        "    print(samples, \"/\", data_set)\n",
        "  response = model.generate_content(\"Analyze the sentiment of the following text and respond in only positive or negative, all lowercase: \" + text)\n",
        "\n",
        "  try:\n",
        "    if(response.text in ['positive','negative']):\n",
        "      y_pred.append(response.text)\n",
        "    else:\n",
        "      y_pred.append('positive')\n",
        "  except:\n",
        "    y_pred.append('negative')\n",
        "    print(response.prompt_feedback)"
      ],
      "metadata": {
        "id": "KEn8v1IO6Lc0",
        "colab": {
          "base_uri": "https://localhost:8080/",
          "height": 191
        },
        "outputId": "cdae485c-0813-4be0-81ed-16cbb49f3236"
      },
      "execution_count": null,
      "outputs": [
        {
          "output_type": "stream",
          "name": "stdout",
          "text": [
            "1 / 10\n",
            "2 / 10\n",
            "3 / 10\n",
            "4 / 10\n",
            "5 / 10\n",
            "6 / 10\n",
            "7 / 10\n",
            "8 / 10\n",
            "9 / 10\n",
            "10 / 10\n"
          ]
        }
      ]
    },
    {
      "cell_type": "code",
      "source": [
        "for i, x in enumerate(y_pred):\n",
        "  if x not in [\"positive\", \"negative\"]:\n",
        "    print(i)"
      ],
      "metadata": {
        "id": "9_UMxjxczCsa"
      },
      "execution_count": null,
      "outputs": []
    },
    {
      "cell_type": "code",
      "source": [
        "from sklearn.metrics import confusion_matrix, accuracy_score\n",
        "cm = confusion_matrix(y_test,y_pred)\n",
        "accuracy = accuracy_score(y_test,y_pred)\n",
        "\n",
        "print(\"Accuracy(%): \",accuracy*100)\n",
        "\n",
        "\n",
        "sns.heatmap(cm,\n",
        "            annot=True,\n",
        "            fmt='g',\n",
        "            xticklabels=['Positive','Negative'],\n",
        "            yticklabels=['Positive','Negative'])\n",
        "plt.ylabel('Prediction',fontsize=13)\n",
        "plt.xlabel('Actual',fontsize=13)\n",
        "plt.title('Confusion Matrix',fontsize=17)\n",
        "plt.show()"
      ],
      "metadata": {
        "id": "h81BdPBd6MFY",
        "colab": {
          "base_uri": "https://localhost:8080/",
          "height": 498
        },
        "outputId": "d1f8c259-2371-4a26-f90d-6ed7ba6435eb"
      },
      "execution_count": null,
      "outputs": [
        {
          "output_type": "stream",
          "name": "stdout",
          "text": [
            "Accuracy(%):  100.0\n"
          ]
        },
        {
          "output_type": "display_data",
          "data": {
            "text/plain": [
              "<Figure size 640x480 with 2 Axes>"
            ],
            "image/png": "[encoded data removed]"
          },
          "metadata": {}
        }
      ]
    }
  ]
}